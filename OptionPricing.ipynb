{
 "cells": [
  {
   "cell_type": "code",
   "execution_count": 1,
   "id": "e8ef08ae",
   "metadata": {},
   "outputs": [],
   "source": [
    "import yfinance as yf\n",
    "import matplotlib.pyplot as plt\n",
    "import pandas as pd\n",
    "from scipy.stats import norm\n",
    "import numpy as np\n",
    "from datetime import datetime\n",
    "from dateutil.relativedelta import relativedelta"
   ]
  },
  {
   "cell_type": "code",
   "execution_count": 4,
   "id": "4f110f5f",
   "metadata": {},
   "outputs": [],
   "source": [
    "def days_calc(year, month, day):\n",
    "  # Get today's date\n",
    "  today = datetime.today()\n",
    "\n",
    "  # Define the target date\n",
    "  target_date = datetime(year, month, day)\n",
    "\n",
    "  # Calculate the difference in days\n",
    "  delta = target_date - today\n",
    "\n",
    "  # Number of days\n",
    "  T_days = delta.days\n",
    "  return(T_days)"
   ]
  },
  {
   "cell_type": "code",
   "execution_count": 5,
   "id": "f0e5eccf",
   "metadata": {},
   "outputs": [],
   "source": [
    "def black_scholes(name, K, T_days, r, option_type='call', show_volatility=False, show_price=False, over_write_price=0, over_write_sigma = 0):\n",
    "    end_date = datetime.today()\n",
    "    start_date = end_date - relativedelta(years=5)\n",
    "    data = yf.download(name, start_date, end_date)\n",
    "    S = data[\"Close\"].iloc[-1]\n",
    "    if over_write_price > 0:\n",
    "      S = over_write_price\n",
    "\n",
    "    if show_price:\n",
    "        plt.figure(figsize=(10, 6))\n",
    "        plt.plot(data[\"Close\"], label='Price', color='black')\n",
    "        plt.title(f'{name} prices')\n",
    "        plt.xlabel('Date')\n",
    "        plt.ylabel('Close Price')\n",
    "        plt.legend()\n",
    "        plt.grid(True)\n",
    "        plt.show()\n",
    "        print(\"S is:\", S)\n",
    "\n",
    "    log_returns = np.log(data[\"Close\"] / data[\"Close\"].shift(1))\n",
    "    data.index = pd.to_datetime(data.index)\n",
    "    weekly_volatility = log_returns.resample('W').std() * np.sqrt(252)\n",
    "    monthly_volatility = log_returns.resample('M').std() * np.sqrt(252)\n",
    "    sigma = monthly_volatility.iloc[-1]\n",
    "\n",
    "    if show_volatility:\n",
    "        plt.figure(figsize=(14, 7))\n",
    "\n",
    "        plt.subplot(2, 1, 1)\n",
    "        plt.plot(monthly_volatility, label='Monthly Price Volatility (Annualized)', color='blue')\n",
    "        plt.title('Monthly Price Volatility')\n",
    "        plt.legend()\n",
    "\n",
    "        plt.subplot(2, 1, 2)\n",
    "        plt.plot(weekly_volatility, label='Weekly Price Volatility (Annualized)', color='green')\n",
    "        plt.title('Weekly Price Volatility')\n",
    "        plt.legend()\n",
    "\n",
    "        plt.tight_layout()\n",
    "        plt.show()\n",
    "        print(\"Last monthly running volatility:\", monthly_volatility.iloc[-1])\n",
    "        print(\"Last weekly running volatility:\", weekly_volatility.iloc[-1])\n",
    "        print(\"Sigma is:\", sigma)\n",
    "\n",
    "    if over_write_sigma > 0:\n",
    "        sigma = over_write_sigma\n",
    "    T = T_days / 365  # Convert time to expiration from days to years\n",
    "\n",
    "    def option_price(K):\n",
    "        d1 = (np.log(S / K) + (r + 0.5 * sigma**2) * T) / (sigma * np.sqrt(T))\n",
    "        d2 = d1 - sigma * np.sqrt(T)\n",
    "        if option_type == 'call':\n",
    "            return S * norm.cdf(d1) - K * np.exp(-r * T) * norm.cdf(d2)\n",
    "        elif option_type == 'put':\n",
    "            return K * np.exp(-r * T) * norm.cdf(-d2) - S * norm.cdf(-d1)\n",
    "        else:\n",
    "            raise ValueError(\"Option type must be 'call' or 'put'\")\n",
    "    if show_volatility == False and show_price == False:\n",
    "      return [option_price(k) for k in K]"
   ]
  },
  {
   "cell_type": "code",
   "execution_count": 8,
   "id": "e8ad5240",
   "metadata": {},
   "outputs": [
    {
     "name": "stderr",
     "output_type": "stream",
     "text": [
      "[*********************100%%**********************]  1 of 1 completed\n",
      "[*********************100%%**********************]  1 of 1 completed\n"
     ]
    },
    {
     "name": "stdout",
     "output_type": "stream",
     "text": [
      "\n",
      "18OKT24\n",
      "    Strike Price  Option Call Price  Option Put Price\n",
      "0           10.0              12.43              0.00\n",
      "1           12.0              10.44              0.00\n",
      "2           13.0               9.44              0.00\n",
      "3           14.0               8.44              0.00\n",
      "4           15.0               7.45              0.00\n",
      "5           15.5               6.95              0.00\n",
      "6           16.0               6.45              0.00\n",
      "7           16.5               5.95              0.00\n",
      "8           17.0               5.45              0.00\n",
      "9           17.5               4.96              0.00\n",
      "10          18.0               4.46              0.01\n",
      "11          18.5               3.97              0.01\n",
      "12          19.0               3.49              0.03\n",
      "13          19.5               3.01              0.05\n",
      "14          20.0               2.56              0.10\n",
      "15          20.5               2.13              0.17\n",
      "16          21.0               1.74              0.27\n",
      "17          21.5               1.38              0.42\n",
      "18          22.0               1.08              0.61\n",
      "19          23.0               0.60              1.13\n",
      "20          23.5               0.43              1.46\n",
      "21          25.0               0.14              2.66\n",
      "22          26.0               0.06              3.57\n",
      "23          28.0               0.01              5.52\n"
     ]
    }
   ],
   "source": [
    "name = \"BFIT.AS\"\n",
    "K = [10, 12, 13, 14, 15, 15.50, 16, 16.50, 17, 17.50, 18, 18.50, 19, 19.50, 20, 20.50, 21, 21.50, 22, 23, 23.5, 25, 26, 28]\n",
    "T_days = days_calc(2024,10,18)\n",
    "r = 0.0375\n",
    "call_prices = black_scholes(name, K, T_days, r, option_type=\"call\")\n",
    "put_prices = black_scholes(name, K, T_days, r, option_type=\"put\")\n",
    "\n",
    "df = pd.DataFrame({\n",
    "    'Strike Price': K,\n",
    "    'Option Call Price': round(pd.Series(call_prices),2),\n",
    "    'Option Put Price': round(pd.Series(put_prices),2)\n",
    "})\n",
    "print()\n",
    "print(\"18OKT24\")\n",
    "print(df)"
   ]
  },
  {
   "cell_type": "code",
   "execution_count": null,
   "id": "ebfa58e3",
   "metadata": {},
   "outputs": [],
   "source": []
  }
 ],
 "metadata": {
  "kernelspec": {
   "display_name": "Python 3 (ipykernel)",
   "language": "python",
   "name": "python3"
  },
  "language_info": {
   "codemirror_mode": {
    "name": "ipython",
    "version": 3
   },
   "file_extension": ".py",
   "mimetype": "text/x-python",
   "name": "python",
   "nbconvert_exporter": "python",
   "pygments_lexer": "ipython3",
   "version": "3.9.13"
  }
 },
 "nbformat": 4,
 "nbformat_minor": 5
}
